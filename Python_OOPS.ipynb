{
 "cells": [
  {
   "cell_type": "markdown",
   "id": "2c07f325",
   "metadata": {},
   "source": [
    "# OOPS"
   ]
  },
  {
   "cell_type": "markdown",
   "id": "53caf66c",
   "metadata": {},
   "source": [
    "# What are the five key concepts of Object-Oriented Programming (OOP)?"
   ]
  },
  {
   "cell_type": "markdown",
   "id": "79658081",
   "metadata": {},
   "source": [
    "The five key concepts of Object-Oriented Programming (OOP) are:\n",
    "\n",
    "Classes: A class is a blueprint or template for creating objects. It defines the properties (attributes) and behaviors (methods) that objects of that class will have"
   ]
  },
  {
   "cell_type": "markdown",
   "id": "10a6304f",
   "metadata": {},
   "source": [
    "Objects: Objects are instances of classes. They represent real-world entities and have their own unique state (values of their attributes) and behavior (ability to perform actions defined by their methods)."
   ]
  },
  {
   "cell_type": "code",
   "execution_count": 1,
   "id": "00e054bb",
   "metadata": {},
   "outputs": [
    {
     "name": "stdout",
     "output_type": "stream",
     "text": [
      "Buddy\n",
      "Woof!\n"
     ]
    }
   ],
   "source": [
    "#Example:\n",
    "class Dog:\n",
    "    def __init__(self, name, breed):\n",
    "        self.name = name\n",
    "        self.breed = breed\n",
    "\n",
    "    def bark(self):\n",
    "        print(\"Woof!\")\n",
    "\n",
    "# Creating objects (instances) of the Dog class\n",
    "dog1 = Dog(\"Buddy\", \"Golden Retriever\")\n",
    "dog2 = Dog(\"Max\", \"Labrador\")\n",
    "\n",
    "# Accessing attributes and calling methods\n",
    "print(dog1.name)  # Output: Buddy\n",
    "dog2.bark()  # Output: Woof!"
   ]
  },
  {
   "cell_type": "markdown",
   "id": "c042ac36",
   "metadata": {},
   "source": [
    "Encapsulation: Encapsulation is the bundling of data (attributes) and methods that operate on that data within a single unit (class). This protects the data from unauthorized access and modification, promoting data integrity."
   ]
  },
  {
   "cell_type": "code",
   "execution_count": 2,
   "id": "dbc6c0d1",
   "metadata": {},
   "outputs": [
    {
     "name": "stdout",
     "output_type": "stream",
     "text": [
      "1000\n"
     ]
    }
   ],
   "source": [
    "#Example:\n",
    "class BankAccount:\n",
    "    def __init__(self, balance):\n",
    "        self.__balance = balance  # Private attribute\n",
    "\n",
    "    def deposit(self, amount):\n",
    "        self.__balance += amount\n",
    "\n",
    "    def withdraw(self, amount):\n",
    "        if amount <= self.__balance:\n",
    "            self.__balance -= amount\n",
    "        else:\n",
    "            print(\"Insufficient funds\")\n",
    "\n",
    "    def get_balance(self):\n",
    "        return self.__balance\n",
    "\n",
    "# Creating a bank account object\n",
    "account = BankAccount(1000)\n",
    "\n",
    "# Accessing the balance using the public method\n",
    "print(account.get_balance())  # Output: 1000"
   ]
  },
  {
   "cell_type": "markdown",
   "id": "2a0bd14a",
   "metadata": {},
   "source": [
    "Inheritance: Inheritance is the mechanism by which one class (child class or subclass) inherits the properties and methods of another class (parent class or superclass). This promotes code reusability and creates hierarchical relationships between classes."
   ]
  },
  {
   "cell_type": "code",
   "execution_count": 3,
   "id": "435aa142",
   "metadata": {},
   "outputs": [
    {
     "name": "stdout",
     "output_type": "stream",
     "text": [
      "Eating...\n",
      "Woof!\n"
     ]
    }
   ],
   "source": [
    "#Example:\n",
    "class Animal:\n",
    "    def __init__(self, name):\n",
    "        self.name = name\n",
    "\n",
    "    def eat(self):\n",
    "        print(\"Eating...\")\n",
    "\n",
    "class Dog(Animal):\n",
    "    def bark(self):\n",
    "        print(\"Woof!\")\n",
    "\n",
    "# Creating a Dog object\n",
    "dog = Dog(\"Buddy\")\n",
    "\n",
    "# Accessing inherited and specific methods\n",
    "dog.eat()  # Output: Eating...\n",
    "dog.bark()  # Output: Woof!"
   ]
  },
  {
   "cell_type": "markdown",
   "id": "f8bb590b",
   "metadata": {},
   "source": [
    "Polymorphism: Polymorphism allows objects of different classes to be treated as if they were objects of the same class. This enables flexibility and dynamic behavior, as different objects can respond to the same message in different ways."
   ]
  },
  {
   "cell_type": "code",
   "execution_count": 4,
   "id": "28558816",
   "metadata": {},
   "outputs": [
    {
     "name": "stdout",
     "output_type": "stream",
     "text": [
      "20\n",
      "28.259999999999998\n"
     ]
    }
   ],
   "source": [
    "#Example:\n",
    "class Shape:\n",
    "    def area(self):\n",
    "        pass\n",
    "\n",
    "class Rectangle(Shape):\n",
    "    def __init__(self, width, height):\n",
    "        self.width = width\n",
    "        self.height = height\n",
    "\n",
    "    def area(self):\n",
    "        return self.width * self.height\n",
    "\n",
    "class Circle(Shape):\n",
    "    def __init__(self, radius):\n",
    "        self.radius = radius\n",
    "\n",
    "    def area(self):\n",
    "        return 3.14 * self.radius * self.radius\n",
    "\n",
    "# Creating objects of different shapes\n",
    "shapes = [Rectangle(5, 4), Circle(3)]\n",
    "\n",
    "for shape in shapes:\n",
    "    print(shape.area())  # Output: 20, 28.26"
   ]
  },
  {
   "cell_type": "markdown",
   "id": "a56a72db",
   "metadata": {},
   "source": [
    "#  Write a Python class for a `Car` with attributes for `make`, `model`, and `year`. Include a method to display the car's information."
   ]
  },
  {
   "cell_type": "code",
   "execution_count": 5,
   "id": "39370cb3",
   "metadata": {},
   "outputs": [
    {
     "name": "stdout",
     "output_type": "stream",
     "text": [
      "Make: Toyota\n",
      "Model: Camry\n",
      "Year: 2023\n"
     ]
    }
   ],
   "source": [
    "#code:\n",
    "class Car:\n",
    "    def __init__(self, make, model, year):\n",
    "        self.make = make\n",
    "        self.model = model\n",
    "        self.year = year\n",
    "\n",
    "    def display_info(self):\n",
    "        print(f\"Make: {self.make}\")\n",
    "        print(f\"Model: {self.model}\")\n",
    "        print(f\"Year: {self.year}\")\n",
    "\n",
    "# Create a car object\n",
    "my_car = Car(\"Toyota\", \"Camry\", 2023)\n",
    "\n",
    "# Display the car's information\n",
    "my_car.display_info()"
   ]
  },
  {
   "cell_type": "markdown",
   "id": "b594bf1d",
   "metadata": {},
   "source": [
    "#  Explain the difference between instance methods and class methods. Provide an example of each."
   ]
  },
  {
   "cell_type": "markdown",
   "id": "b99502a7",
   "metadata": {},
   "source": [
    "Instance Methods\n",
    "\n",
    "Belong to specific instances of a class.\n",
    "\n",
    "Have access to the instance's attributes and other instance methods.\n",
    "\n",
    "Use the self parameter to refer to the current instance."
   ]
  },
  {
   "cell_type": "code",
   "execution_count": 6,
   "id": "830b2f47",
   "metadata": {},
   "outputs": [],
   "source": [
    "#Example:\n",
    "class Car:\n",
    "    def __init__(self, make, model, year):\n",
    "        self.make = make\n",
    "        self.model = model\n",
    "        self.year = year\n",
    "\n",
    "    def display_info(self):\n",
    "        print(f\"Make: {self.make}\")\n",
    "        print(f\"Model: {self.model}\")\n",
    "        print(f\"Year: {self.year}\")"
   ]
  },
  {
   "cell_type": "markdown",
   "id": "9554cf62",
   "metadata": {},
   "source": [
    "Class Methods\n",
    "\n",
    "Belong to the class itself, not to specific instances.\n",
    "\n",
    "Can be called on the class directly, without creating an instance.\n",
    "\n",
    "Use the cls parameter to refer to the class itself.\n",
    "\n",
    "Often used for creating class-level methods, like factory methods."
   ]
  },
  {
   "cell_type": "code",
   "execution_count": 7,
   "id": "13f5697f",
   "metadata": {},
   "outputs": [],
   "source": [
    "#Example:\n",
    "class Car:\n",
    "    def __init__(self, make, model, year):\n",
    "        self.make = make\n",
    "        self.model = model\n",
    "        self.year = year\n",
    "\n",
    "    @classmethod\n",
    "    def from_string(cls, car_str):\n",
    "        make, model, year = car_str.split(\",\")\n",
    "        return cls(make, model, year)"
   ]
  },
  {
   "cell_type": "markdown",
   "id": "44eb521a",
   "metadata": {},
   "source": [
    "#  How does Python implement method overloading? Give an example."
   ]
  },
  {
   "cell_type": "markdown",
   "id": "2a1c2d1c",
   "metadata": {},
   "source": [
    "Python does not directly support method overloading like some other languages. Method overloading allows you to define multiple methods with the same name but different parameters.\n",
    "\n",
    "However, Python provides a workaround using default arguments and variable-length arguments:"
   ]
  },
  {
   "cell_type": "markdown",
   "id": "8820ddd0",
   "metadata": {},
   "source": [
    "Default Arguments:"
   ]
  },
  {
   "cell_type": "code",
   "execution_count": 8,
   "id": "196d7ec0",
   "metadata": {},
   "outputs": [
    {
     "name": "stdout",
     "output_type": "stream",
     "text": [
      "Hello Alice\n",
      "Hi Bob\n"
     ]
    }
   ],
   "source": [
    "def greet(name, greeting=\"Hello\"):\n",
    "    print(greeting, name)\n",
    "\n",
    "greet(\"Alice\")  # Output: Hello Alice\n",
    "greet(\"Bob\", \"Hi\")  # Output: Hi Bob"
   ]
  },
  {
   "cell_type": "markdown",
   "id": "e42f34ee",
   "metadata": {},
   "source": [
    "In this example, the greet function has a default argument for the greeting parameter. If you don't provide a value for greeting, it will default to \"Hello\". This allows you to call the same function with different numbers of arguments."
   ]
  },
  {
   "cell_type": "markdown",
   "id": "a4c765a0",
   "metadata": {},
   "source": [
    "Variable-Length Arguments:"
   ]
  },
  {
   "cell_type": "code",
   "execution_count": 9,
   "id": "521b1313",
   "metadata": {},
   "outputs": [
    {
     "name": "stdout",
     "output_type": "stream",
     "text": [
      "6\n",
      "22\n"
     ]
    }
   ],
   "source": [
    "def sum_numbers(*args):\n",
    "    total = 0\n",
    "    for num in args:\n",
    "        total += num\n",
    "    return total\n",
    "\n",
    "print(sum_numbers(1, 2, 3))  # Output: 6\n",
    "print(sum_numbers(4, 5, 6, 7))  # Output: 22"
   ]
  },
  {
   "cell_type": "markdown",
   "id": "eda086a5",
   "metadata": {},
   "source": [
    "The *args syntax allows you to pass a variable number of arguments to a function. This can be used to simulate method overloading by creating functions that can accept different numbers of arguments."
   ]
  },
  {
   "cell_type": "markdown",
   "id": "e1ec58a8",
   "metadata": {},
   "source": [
    "#  What are the three types of access modifiers in Python? How are they denoted?"
   ]
  },
  {
   "cell_type": "markdown",
   "id": "50ee2d7c",
   "metadata": {},
   "source": [
    "Python doesn't have explicit access modifiers like public, private, and protected as in languages like Java or C++. However, it has conventions to indicate the intended visibility of attributes and methods:\n",
    "\n",
    "Public Members:\n",
    "\n",
    "No special notation: Any attribute or method without any specific notation is considered public.\n",
    "\n",
    "Accessible from anywhere: Can be accessed from within the class, its subclasses, and outside the class.\n",
    "\n",
    "Protected Members:\n",
    "\n",
    "Single underscore prefix: A single underscore (_) prefix indicates that a member is intended to be protected.\n",
    "\n",
    "Convention, not enforced: While it's a strong convention, it's not strictly enforced by the interpreter.\n",
    "\n",
    "Accessible from within the class, its subclasses, and modules within the same package.\n",
    "\n",
    "Private Members:\n",
    "\n",
    "Double underscore prefix: A double underscore (__) prefix indicates that a member is intended to be private.\n",
    "\n",
    "Name mangling: Python's name mangling mechanism renames private members to avoid naming conflicts.\n",
    "\n",
    "Accessible only from within the class: Can't be accessed directly from outside the class, even within the same module or package.\n",
    "\n",
    "Example:"
   ]
  },
  {
   "cell_type": "code",
   "execution_count": 10,
   "id": "a1c4c176",
   "metadata": {},
   "outputs": [],
   "source": [
    "class MyClass:\n",
    "    public_attribute = 10\n",
    "\n",
    "    _protected_attribute = 20\n",
    "\n",
    "    __private_attribute = 30\n",
    "\n",
    "    def public_method(self):\n",
    "        print(\"Public method\")\n",
    "\n",
    "    def _protected_method(self):\n",
    "        print(\"Protected method\")\n",
    "\n",
    "    def __private_method(self):\n",
    "        print(\"Private method\")"
   ]
  },
  {
   "cell_type": "markdown",
   "id": "e15f6f08",
   "metadata": {},
   "source": [
    "In this example:\n",
    "\n",
    "public_attribute, public_method are public.\n",
    "\n",
    "_protected_attribute, _protected_method are protected.\n",
    "\n",
    "__private_attribute, __private_method are private."
   ]
  },
  {
   "cell_type": "markdown",
   "id": "56f58aa2",
   "metadata": {},
   "source": [
    "#  Describe the five types of inheritance in Python. Provide a simple example of multiple inheritance."
   ]
  },
  {
   "cell_type": "markdown",
   "id": "a362eb99",
   "metadata": {},
   "source": [
    "Python primarily supports three types of inheritance:\n",
    "\n",
    "Single Inheritance:\n",
    "\n",
    "A class inherits from only one parent class.\n",
    "This is the most common type of inheritance.\n",
    "\n",
    "Multiple Inheritance:\n",
    "\n",
    "A class inherits from multiple parent classes.\n",
    "This can lead to complex inheritance hierarchies and potential ambiguity issues.\n",
    "\n",
    "Multilevel Inheritance:\n",
    "\n",
    "A class inherits from a derived class.\n",
    "This creates a hierarchical structure of classes."
   ]
  },
  {
   "cell_type": "markdown",
   "id": "7ebfe1e0",
   "metadata": {},
   "source": [
    "Example of Multiple Inheritance:"
   ]
  },
  {
   "cell_type": "code",
   "execution_count": 11,
   "id": "e2d6043c",
   "metadata": {},
   "outputs": [],
   "source": [
    "class Vehicle:\n",
    "    def __init__(self, color):\n",
    "        self.color = color\n",
    "\n",
    "class Engine:\n",
    "    def __init__(self, fuel_type):\n",
    "        self.fuel_type = fuel_type\n",
    "\n",
    "class Car(Vehicle, Engine):\n",
    "    def __init__(self, color, fuel_type, num_wheels):\n",
    "        Vehicle.__init__(self, color)\n",
    "        Engine.__init__(self, fuel_type)\n",
    "        self.num_wheels = num_wheels\n",
    "\n",
    "    def display_info(self):\n",
    "        print(f\"Color: {self.color}\")\n",
    "        print(f\"Fuel Type: {self.fuel_type}\")\n",
    "        print(f\"Number of Wheels: {self.num_wheels}\")"
   ]
  },
  {
   "cell_type": "markdown",
   "id": "a0bb5c6d",
   "metadata": {},
   "source": [
    "In this example, the Car class inherits from both the Vehicle and Engine classes. This allows the Car class to have attributes and methods from both parent classes.\n",
    "\n",
    "While Python officially supports only these three types, some additional concepts can be considered:\n",
    "\n",
    "Hierarchical Inheritance:\n",
    "\n",
    "Multiple child classes inherit from a single parent class.\n",
    "Hybrid Inheritance:\n",
    "\n",
    "A combination of multiple inheritance and hierarchical inheritance."
   ]
  },
  {
   "cell_type": "markdown",
   "id": "93c5358a",
   "metadata": {},
   "source": [
    "# What is the Method Resolution Order (MRO) in Python? How can you retrieve it programmatically?"
   ]
  },
  {
   "cell_type": "markdown",
   "id": "0fdf615e",
   "metadata": {},
   "source": [
    "Method Resolution Order (MRO) in Python determines the order in which methods are searched for when a method call is made on an object. This is crucial, especially in multiple inheritance scenarios, to avoid ambiguity and ensure the correct method is invoked.\n",
    "\n",
    "How MRO Works:\n",
    "\n",
    "Python uses a C3 linearization algorithm to determine the MRO of a class. This algorithm ensures that:\n",
    "\n",
    "Child classes are searched before parent classes.\n",
    "Multiple parent classes are searched in a depth-first, left-to-right order.\n",
    "Ambiguities are resolved by prioritizing the leftmost parent class.\n",
    "\n",
    "Retrieving MRO Programmatically:\n",
    "\n",
    "You can use the __mro__ attribute to access the MRO of a class:"
   ]
  },
  {
   "cell_type": "code",
   "execution_count": 13,
   "id": "d0281264",
   "metadata": {},
   "outputs": [
    {
     "name": "stdout",
     "output_type": "stream",
     "text": [
      "(<class '__main__.D'>, <class '__main__.B'>, <class '__main__.C'>, <class '__main__.A'>, <class 'object'>)\n"
     ]
    }
   ],
   "source": [
    "class A:\n",
    "    pass\n",
    "\n",
    "class B(A):\n",
    "    pass\n",
    "\n",
    "class C(A):\n",
    "    pass\n",
    "\n",
    "class D(B, C):\n",
    "    pass\n",
    "\n",
    "print(D.__mro__)  # Output: (<class '__main__.D'>, <class '__main__.B'>, <class '__main__.C'>, <class '__main__.A'>, <class 'object'>)"
   ]
  },
  {
   "cell_type": "markdown",
   "id": "432f9f67",
   "metadata": {},
   "source": [
    "In this example, the MRO of the D class is (D, B, C, A, object). This means that if a method is not found in the D class, it will be searched in B, then C, then A, and finally in the base object class."
   ]
  },
  {
   "cell_type": "markdown",
   "id": "fc88c20d",
   "metadata": {},
   "source": [
    "#  Create an abstract base class `Shape` with an abstract method `area()`. Then create two subclasses`Circle` and `Rectangle` that implement the `area()` method."
   ]
  },
  {
   "cell_type": "code",
   "execution_count": 14,
   "id": "8ed096a3",
   "metadata": {},
   "outputs": [],
   "source": [
    "#Code\n",
    "from abc import ABC, abstractmethod\n",
    "\n",
    "class Shape(ABC):\n",
    "    @abstractmethod\n",
    "    def area(self):\n",
    "        pass\n",
    "\n",
    "class Circle(Shape):\n",
    "    def __init__(self, radius):\n",
    "        self.radius = radius\n",
    "\n",
    "    def area(self):\n",
    "        return 3.14159 * self.radius * self.radius\n",
    "\n",
    "class Rectangle(Shape):\n",
    "    def __init__(self, length, width):\n",
    "        self.length = length\n",
    "        self.width = width\n",
    "\n",
    "    def area(self):\n",
    "        return self.length * self.width"
   ]
  },
  {
   "cell_type": "markdown",
   "id": "6a868f31",
   "metadata": {},
   "source": [
    "Explanation:\n",
    "\n",
    "Abstract Base Class Shape:\n",
    "\n",
    "Inherits from ABC (Abstract Base Class) to define an abstract class.\n",
    "Declares an abstract method area() using the @abstractmethod decorator. This method must be implemented by any subclass of Shape.\n",
    "\n",
    "Concrete Class Circle:\n",
    "\n",
    "Inherits from Shape.\n",
    "Defines a constructor to initialize the radius.\n",
    "Implements the area() method to calculate the area of a circle.\n",
    "\n",
    "Concrete Class Rectangle:\n",
    "\n",
    "Inherits from Shape.\n",
    "Defines a constructor to initialize the length and width.\n",
    "Implements the area() method to calculate the area of a rectangle."
   ]
  },
  {
   "cell_type": "markdown",
   "id": "94c64bb2",
   "metadata": {},
   "source": [
    "#  Demonstrate polymorphism by creating a function that can work with different shape objects to calculate and print their areas.\n",
    "\n",
    "\n"
   ]
  },
  {
   "cell_type": "code",
   "execution_count": 15,
   "id": "d524d1bc",
   "metadata": {},
   "outputs": [
    {
     "name": "stdout",
     "output_type": "stream",
     "text": [
      "Area: 78.53975\n",
      "Area: 24\n"
     ]
    }
   ],
   "source": [
    "#Code:\n",
    "def calculate_area(shape):\n",
    "    print(\"Area:\", shape.area())\n",
    "\n",
    "# Create instances of Circle and Rectangle\n",
    "circle = Circle(5)\n",
    "rectangle = Rectangle(4, 6)\n",
    "\n",
    "# Calculate and print the area of each shape\n",
    "calculate_area(circle)  # Output: Area: 78.53975\n",
    "calculate_area(rectangle)  # Output: Area: 24"
   ]
  },
  {
   "cell_type": "markdown",
   "id": "9c93bdc8",
   "metadata": {},
   "source": [
    "Explanation:\n",
    "\n",
    "Polymorphic Function calculate_area():\n",
    "\n",
    "Takes a shape object as input.\n",
    "Calls the area() method on the passed shape object to calculate its area.\n",
    "Prints the calculated area.\n",
    "\n",
    "Shape Objects:\n",
    "\n",
    "We create instances of Circle and Rectangle.\n",
    "\n",
    "Function Call:\n",
    "\n",
    "We pass the circle and rectangle objects to the calculate_area() function.\n",
    "The function correctly identifies the object type and calls the appropriate area() method."
   ]
  },
  {
   "cell_type": "markdown",
   "id": "c63b9a0d",
   "metadata": {},
   "source": [
    "#  Implement encapsulation in a `BankAccount` class with private attributes for `balance` and `account_number`. Include methods for deposit, withdrawal, and balance inquiry."
   ]
  },
  {
   "cell_type": "code",
   "execution_count": 16,
   "id": "234b5dfd",
   "metadata": {},
   "outputs": [],
   "source": [
    "#Code:\n",
    "class BankAccount:\n",
    "    def __init__(self, account_number, initial_balance):\n",
    "        self.__account_number = account_number\n",
    "        self.__balance = initial_balance\n",
    "\n",
    "    def deposit(self, amount):\n",
    "        if amount > 0:\n",
    "            self.__balance += amount\n",
    "            print(f\"Deposited {amount}. New balance: {self.__balance}\")\n",
    "        else:\n",
    "            print(\"Invalid deposit amount.\")\n",
    "\n",
    "    def withdraw(self, amount):\n",
    "        if 0 < amount <= self.__balance:\n",
    "            self.__balance -= amount\n",
    "            print(f\"Withdrew {amount}. New balance: {self.__balance}\")\n",
    "        elif amount > self.__balance:\n",
    "            print(\"Insufficient funds.\")\n",
    "        else:\n",
    "            print(\"Invalid withdrawal amount.\")\n",
    "\n",
    "    def get_balance(self):\n",
    "        print(f\"Current balance: {self.__balance}\")"
   ]
  },
  {
   "cell_type": "markdown",
   "id": "e8102210",
   "metadata": {},
   "source": [
    "# . Write a class that overrides the `__str__` and `__add__` magic methods. What will these methods allow you to do?"
   ]
  },
  {
   "cell_type": "code",
   "execution_count": 17,
   "id": "d52aa0de",
   "metadata": {},
   "outputs": [
    {
     "name": "stdout",
     "output_type": "stream",
     "text": [
      "Person: Alice, Age: 30\n",
      "55\n"
     ]
    }
   ],
   "source": [
    "#Code:\n",
    "class Person:\n",
    "    def __init__(self, name, age):\n",
    "        self.name = name\n",
    "        self.age = age\n",
    "\n",
    "    def __str__(self):\n",
    "        return f\"Person: {self.name}, Age: {self.age}\"\n",
    "\n",
    "    def __add__(self, other):\n",
    "        return self.age + other.age\n",
    "\n",
    "# Create instances of the Person class\n",
    "person1 = Person(\"Alice\", 30)\n",
    "person2 = Person(\"Bob\", 25)\n",
    "\n",
    "# Print the person object directly\n",
    "print(person1)  # Output: Person: Alice, Age: 30\n",
    "\n",
    "# Add the ages of two persons\n",
    "total_age = person1 + person2\n",
    "print(total_age)  # Output: 55"
   ]
  },
  {
   "cell_type": "markdown",
   "id": "693bc99c",
   "metadata": {},
   "source": [
    "# Create a decorator that measures and prints the execution time of a function."
   ]
  },
  {
   "cell_type": "code",
   "execution_count": 18,
   "id": "c2f3ff84",
   "metadata": {},
   "outputs": [
    {
     "name": "stdout",
     "output_type": "stream",
     "text": [
      "Function completed\n",
      "Execution time of my_function: 2.0019 seconds\n"
     ]
    }
   ],
   "source": [
    "#Code:\n",
    "import time\n",
    "\n",
    "def measure_time(func):\n",
    "    def wrapper(*args, **kwargs):\n",
    "        start_time = time.time()\n",
    "        result = func(*args, **kwargs)\n",
    "        end_time = time.time()\n",
    "        print(f\"Execution time of {func.__name__}: {end_time - start_time:.4f} seconds\")\n",
    "        return result\n",
    "    return wrapper\n",
    "\n",
    "@measure_time\n",
    "def my_function():\n",
    "    # Some time-consuming operation here\n",
    "    time.sleep(2)\n",
    "    print(\"Function completed\")\n",
    "\n",
    "my_function()"
   ]
  },
  {
   "cell_type": "markdown",
   "id": "b30fbcb3",
   "metadata": {},
   "source": [
    "# . Explain the concept of the Diamond Problem in multiple inheritance. How does Python resolve it?"
   ]
  },
  {
   "cell_type": "markdown",
   "id": "fe207812",
   "metadata": {},
   "source": [
    "The Diamond Problem\n",
    "\n",
    "The Diamond Problem arises in multiple inheritance when a class inherits from two or more parent classes that share a common ancestor. This can lead to ambiguity if both parent classes have a method with the same name."
   ]
  },
  {
   "cell_type": "code",
   "execution_count": 19,
   "id": "557709bc",
   "metadata": {},
   "outputs": [
    {
     "name": "stdout",
     "output_type": "stream",
     "text": [
      "A's method\n"
     ]
    }
   ],
   "source": [
    "#Example:\n",
    "class A:\n",
    "    def method(self):\n",
    "        print(\"A's method\")\n",
    "\n",
    "class B(A):\n",
    "    pass\n",
    "\n",
    "class C(A):\n",
    "    pass\n",
    "\n",
    "class D(B, C):\n",
    "    pass\n",
    "\n",
    "d = D()\n",
    "d.method()"
   ]
  },
  {
   "cell_type": "markdown",
   "id": "1e999c88",
   "metadata": {},
   "source": [
    "In this example, D inherits from both B and C, which both inherit from A. When we call d.method(), Python needs to determine which method() implementation to use: the one from B or the one from C.\n",
    "\n",
    "Python's Resolution: Method Resolution Order (MRO)\n",
    "\n",
    "Python uses a specific algorithm called C3 linearization to resolve the Diamond Problem. The C3 algorithm ensures that:\n",
    "\n",
    "Child classes are searched before parent classes.\n",
    "Multiple parent classes are searched in a depth-first, left-to-right order.\n",
    "Ambiguities are resolved by prioritizing the leftmost parent class.\n",
    "In the above example, the MRO of D is (D, B, C, A, object). So, when d.method() is called, Python will first look for the method in D, then B, then C, and finally A. Since B inherits from A, the method from A will be found and executed.\n",
    "\n",
    "Key Points:\n",
    "\n",
    "MRO can be complex, especially in deep inheritance hierarchies.\n",
    "It's important to design inheritance hierarchies carefully to avoid ambiguity.\n",
    "Understanding MRO is crucial for effective use of multiple inheritance in Python."
   ]
  },
  {
   "cell_type": "markdown",
   "id": "0e740bae",
   "metadata": {},
   "source": [
    "# Write a class method that keeps track of the number of instances created from a class."
   ]
  },
  {
   "cell_type": "code",
   "execution_count": 20,
   "id": "c9e2a4d6",
   "metadata": {},
   "outputs": [
    {
     "name": "stdout",
     "output_type": "stream",
     "text": [
      "3\n"
     ]
    }
   ],
   "source": [
    "#Code:\n",
    "class MyClass:\n",
    "    instance_count = 0\n",
    "\n",
    "    def __init__(self):\n",
    "        MyClass.instance_count += 1\n",
    "\n",
    "    @classmethod\n",
    "    def get_instance_count(cls):\n",
    "        return cls.instance_count\n",
    "\n",
    "# Create multiple instances\n",
    "obj1 = MyClass()\n",
    "obj2 = MyClass()\n",
    "obj3 = MyClass()\n",
    "\n",
    "# Print the total number of instances\n",
    "print(MyClass.get_instance_count())  # Output: 3"
   ]
  },
  {
   "cell_type": "markdown",
   "id": "2745554d",
   "metadata": {},
   "source": [
    "#  Implement a static method in a class that checks if a given year is a leap year."
   ]
  },
  {
   "cell_type": "code",
   "execution_count": 21,
   "id": "f73afc60",
   "metadata": {},
   "outputs": [
    {
     "name": "stdout",
     "output_type": "stream",
     "text": [
      "2024 is a leap year.\n"
     ]
    }
   ],
   "source": [
    "#Code:\n",
    "class YearChecker:\n",
    "    @staticmethod\n",
    "    def is_leap_year(year):\n",
    "        if year % 4 == 0:\n",
    "            if year % 100 == 0:\n",
    "                if year % 400 == 0:\n",
    "                    return True\n",
    "                else:\n",
    "                    return False\n",
    "            else:\n",
    "                return True\n",
    "        else:\n",
    "            return False\n",
    "\n",
    "# Example usage:\n",
    "year = 2024\n",
    "if YearChecker.is_leap_year(year):\n",
    "    print(f\"{year} is a leap year.\")\n",
    "else:\n",
    "    print(f\"{year} is not a leap year.\")"
   ]
  },
  {
   "cell_type": "markdown",
   "id": "c3474611",
   "metadata": {},
   "source": [
    "Explanation:\n",
    "\n",
    "Static Method is_leap_year():\n",
    "\n",
    "Declared using the @staticmethod decorator.\n",
    "Takes a year as input.\n",
    "Implements the leap year logic:\n",
    "If the year is divisible by 4, it's a leap year unless:\n",
    "It's divisible by 100 but not by 400.\n",
    "\n",
    "Example Usage:\n",
    "\n",
    "Creates a year variable.\n",
    "Calls the is_leap_year() method to check if the year is a leap year.\n",
    "Prints the appropriate message based on the result."
   ]
  },
  {
   "cell_type": "code",
   "execution_count": null,
   "id": "b7c27027",
   "metadata": {},
   "outputs": [],
   "source": []
  }
 ],
 "metadata": {
  "kernelspec": {
   "display_name": "Python 3 (ipykernel)",
   "language": "python",
   "name": "python3"
  },
  "language_info": {
   "codemirror_mode": {
    "name": "ipython",
    "version": 3
   },
   "file_extension": ".py",
   "mimetype": "text/x-python",
   "name": "python",
   "nbconvert_exporter": "python",
   "pygments_lexer": "ipython3",
   "version": "3.9.12"
  }
 },
 "nbformat": 4,
 "nbformat_minor": 5
}
